{
 "cells": [
  {
   "cell_type": "markdown",
   "id": "70766b04-aa12-4180-812c-00fceb43c5d3",
   "metadata": {},
   "source": [
    "# Heap"
   ]
  },
  {
   "cell_type": "code",
   "execution_count": null,
   "id": "fb9c82f2-28c6-4990-8ca5-2200ebfc4cf0",
   "metadata": {},
   "outputs": [],
   "source": [
    "# Кучи бывают 2х типов: Неубывающая(максимальный элемент в корне), невозврастающая(минимальный элемент в корне)\n",
    "# Кучи заполняются справа налево.\n",
    "# Для любого родителя справедливо: i -  parent idx, 2*i + 1 и 2*i + 2 - children index\n",
    "# Для 2х детей одного родителя справедлиово: j - индекс ребёнка, (j - 1) // 2 - parent index\n",
    "\n",
    "# Внутри себя куча хранит список."
   ]
  },
  {
   "cell_type": "code",
   "execution_count": null,
   "id": "61194bf4-4920-46e9-a7bc-867ac44c7e67",
   "metadata": {},
   "outputs": [],
   "source": [
    "# В корне максимальной кучи - максимальное значение - такая куча неубывающая\\\n",
    "# В корне минимальной кучи - минимальное значение - такая куча невозрастающая"
   ]
  },
  {
   "cell_type": "code",
   "execution_count": null,
   "id": "6fb45199-58cb-4c27-98c0-6d57a88a0b42",
   "metadata": {},
   "outputs": [],
   "source": []
  },
  {
   "cell_type": "markdown",
   "id": "7f14a5da-4d57-48a3-9297-ca1332df72d5",
   "metadata": {},
   "source": [
    "## Min heap"
   ]
  },
  {
   "cell_type": "code",
   "execution_count": null,
   "id": "d1789fc3-99c9-4373-934f-0eede2fabae8",
   "metadata": {},
   "outputs": [],
   "source": [
    "# В корне минимальной кучи - минимальное значение - такая куча невозрастающая"
   ]
  },
  {
   "cell_type": "code",
   "execution_count": 13,
   "id": "3d78a9be-ccc7-4680-b0b2-f3fe73919868",
   "metadata": {
    "execution": {
     "iopub.execute_input": "2024-08-18T11:50:33.438191Z",
     "iopub.status.busy": "2024-08-18T11:50:33.437405Z",
     "iopub.status.idle": "2024-08-18T11:50:33.457807Z",
     "shell.execute_reply": "2024-08-18T11:50:33.456305Z",
     "shell.execute_reply.started": "2024-08-18T11:50:33.438118Z"
    }
   },
   "outputs": [],
   "source": [
    "class Heap:\n",
    "    def __init__(self):\n",
    "        self.values = []\n",
    "        self.size = 0\n",
    "\n",
    "    def insert(self, x):\n",
    "        self.values.append(x)\n",
    "        self.size += 1\n",
    "\n",
    "        self._sift_up(self.size - 1)\n",
    "\n",
    "    def _sift_up(self, i):\n",
    "        \"\"\"\n",
    "        Пропихивает элемент в позиции i \"вверх по куче\" \n",
    "        \"\"\"\n",
    "        while (i != 0 and self.values[i] <= self.values[(i - 1) // 2]):\n",
    "            self.values[i], self.values[(i - 1) // 2] = self.values[(i - 1) // 2], self.values[i]\n",
    "            i = (i - 1) // 2;\n",
    "\n",
    "    def _sift_down(self, i):\n",
    "        \"\"\"\n",
    "        Пропихиваем элемент в позиции i \"вниз по куче\"\n",
    "        \"\"\"\n",
    "        while (2 * i + 1 < self.size):\n",
    "            j = i\n",
    "            if self.values[2 * i + 1] < self.values[i]:\n",
    "                j = 2 * i + 1\n",
    "            if (2 * i + 2 < self.size) and (self.values[2 * i + 2] < self.values[j]):\n",
    "                j = 2 * i + 2\n",
    "\n",
    "            if i == j:\n",
    "                break\n",
    "            self.values[i], self.values[j] = self.values[j], self.values[i]\n",
    "            i = j\n",
    "\n",
    "    def extract_min(self):\n",
    "        \"\"\"\n",
    "        Забираем из кучи минимальный элемент(в корне дерева) + \"перестраиваем кучу\" для сохранения свойств кучи\n",
    "        \"\"\"\n",
    "        # Если куча пустая\n",
    "        if not self.size:\n",
    "            return None\n",
    "        \n",
    "        tmp = self.values[0] # запоминаем минимальное значение, которое будет возвращено\n",
    "        self.values[0] = self.values[-1] # помещаем в начало кучи - последний элемент, который затем нужно спусть вниз по куче\n",
    "\n",
    "        self.values.pop()\n",
    "        self.size -= 1\n",
    "        \n",
    "        self._sift_down(0)\n",
    "\n",
    "        return tmp"
   ]
  },
  {
   "cell_type": "code",
   "execution_count": null,
   "id": "d5c2451c-e9ed-4a35-a1ee-ae787eb5c810",
   "metadata": {},
   "outputs": [],
   "source": []
  },
  {
   "cell_type": "code",
   "execution_count": 14,
   "id": "21a382e4-9671-4c25-8daa-2ce7a63d0b2f",
   "metadata": {
    "execution": {
     "iopub.execute_input": "2024-08-18T11:50:33.836921Z",
     "iopub.status.busy": "2024-08-18T11:50:33.836743Z",
     "iopub.status.idle": "2024-08-18T11:50:33.838564Z",
     "shell.execute_reply": "2024-08-18T11:50:33.838328Z",
     "shell.execute_reply.started": "2024-08-18T11:50:33.836909Z"
    }
   },
   "outputs": [],
   "source": [
    "# алгоритм сортировки кучей "
   ]
  },
  {
   "cell_type": "code",
   "execution_count": 15,
   "id": "c7489067-c710-4e73-8c97-fd88690af589",
   "metadata": {
    "execution": {
     "iopub.execute_input": "2024-08-18T11:50:34.110357Z",
     "iopub.status.busy": "2024-08-18T11:50:34.109215Z",
     "iopub.status.idle": "2024-08-18T11:50:34.117153Z",
     "shell.execute_reply": "2024-08-18T11:50:34.115820Z",
     "shell.execute_reply.started": "2024-08-18T11:50:34.110307Z"
    }
   },
   "outputs": [],
   "source": [
    "def heapify(arr):\n",
    "    heap = Heap()\n",
    "    for elem in arr:\n",
    "        heap.insert(elem)\n",
    "\n",
    "    return heap"
   ]
  },
  {
   "cell_type": "code",
   "execution_count": 16,
   "id": "99f0aef4-889d-478c-b31f-c40874b8088f",
   "metadata": {
    "execution": {
     "iopub.execute_input": "2024-08-18T11:50:34.422336Z",
     "iopub.status.busy": "2024-08-18T11:50:34.421627Z",
     "iopub.status.idle": "2024-08-18T11:50:34.429775Z",
     "shell.execute_reply": "2024-08-18T11:50:34.428327Z",
     "shell.execute_reply.started": "2024-08-18T11:50:34.422288Z"
    }
   },
   "outputs": [],
   "source": [
    "def get_sorted_arr(heap):\n",
    "    arr = []\n",
    "    while heap.size:\n",
    "        tmp_ = heap.extract_min()\n",
    "        print(tmp_)\n",
    "        \n",
    "        arr.append(tmp_)\n",
    "\n",
    "    return arr"
   ]
  },
  {
   "cell_type": "code",
   "execution_count": null,
   "id": "dadef8e1-8aaf-4d80-be63-0552f96c365b",
   "metadata": {},
   "outputs": [],
   "source": []
  },
  {
   "cell_type": "code",
   "execution_count": 17,
   "id": "b85b0665-ae5c-415b-82b7-8ea7d0491ec5",
   "metadata": {
    "execution": {
     "iopub.execute_input": "2024-08-18T11:50:35.099591Z",
     "iopub.status.busy": "2024-08-18T11:50:35.098084Z",
     "iopub.status.idle": "2024-08-18T11:50:35.108165Z",
     "shell.execute_reply": "2024-08-18T11:50:35.107240Z",
     "shell.execute_reply.started": "2024-08-18T11:50:35.099531Z"
    }
   },
   "outputs": [
    {
     "name": "stdout",
     "output_type": "stream",
     "text": [
      "3\n",
      "4\n",
      "15\n",
      "21\n",
      "46\n",
      "61\n",
      "79\n"
     ]
    },
    {
     "data": {
      "text/plain": [
       "[3, 4, 15, 21, 46, 61, 79]"
      ]
     },
     "execution_count": 17,
     "metadata": {},
     "output_type": "execute_result"
    }
   ],
   "source": [
    "# пример\n",
    "arr = [15, 4, 3, 21, 46, 61, 79]\n",
    "heap_arr = heapify(arr)\n",
    "\n",
    "get_sorted_arr(heap_arr)"
   ]
  },
  {
   "cell_type": "code",
   "execution_count": null,
   "id": "10b6f5a8-9c16-484b-8e25-e4fd97e7eedb",
   "metadata": {},
   "outputs": [],
   "source": []
  },
  {
   "cell_type": "code",
   "execution_count": 18,
   "id": "04bc6c46-11d2-4799-9ed1-d60300a59d6f",
   "metadata": {
    "execution": {
     "iopub.execute_input": "2024-08-18T12:33:31.406081Z",
     "iopub.status.busy": "2024-08-18T12:33:31.405063Z",
     "iopub.status.idle": "2024-08-18T12:33:31.415775Z",
     "shell.execute_reply": "2024-08-18T12:33:31.412424Z",
     "shell.execute_reply.started": "2024-08-18T12:33:31.406002Z"
    }
   },
   "outputs": [],
   "source": [
    "import heapq"
   ]
  },
  {
   "cell_type": "code",
   "execution_count": 22,
   "id": "64ab60ce-a346-449e-bdb1-24b3bff34a98",
   "metadata": {
    "execution": {
     "iopub.execute_input": "2024-08-18T12:34:44.169640Z",
     "iopub.status.busy": "2024-08-18T12:34:44.168864Z",
     "iopub.status.idle": "2024-08-18T12:34:44.177467Z",
     "shell.execute_reply": "2024-08-18T12:34:44.175480Z",
     "shell.execute_reply.started": "2024-08-18T12:34:44.169589Z"
    }
   },
   "outputs": [],
   "source": [
    "arr1 = [4, 3, 2, 1]"
   ]
  },
  {
   "cell_type": "code",
   "execution_count": 23,
   "id": "bda0f4c4-72d7-4b17-9614-85f2a64e0060",
   "metadata": {
    "execution": {
     "iopub.execute_input": "2024-08-18T12:34:50.425917Z",
     "iopub.status.busy": "2024-08-18T12:34:50.425128Z",
     "iopub.status.idle": "2024-08-18T12:34:50.436262Z",
     "shell.execute_reply": "2024-08-18T12:34:50.434353Z",
     "shell.execute_reply.started": "2024-08-18T12:34:50.425850Z"
    }
   },
   "outputs": [],
   "source": [
    "heapq.heapify(arr1)"
   ]
  },
  {
   "cell_type": "code",
   "execution_count": 24,
   "id": "644445d4-6660-47a9-9584-c18ec35a3cb2",
   "metadata": {
    "execution": {
     "iopub.execute_input": "2024-08-18T12:34:58.643127Z",
     "iopub.status.busy": "2024-08-18T12:34:58.642331Z",
     "iopub.status.idle": "2024-08-18T12:34:58.654273Z",
     "shell.execute_reply": "2024-08-18T12:34:58.652450Z",
     "shell.execute_reply.started": "2024-08-18T12:34:58.643054Z"
    }
   },
   "outputs": [
    {
     "data": {
      "text/plain": [
       "1"
      ]
     },
     "execution_count": 24,
     "metadata": {},
     "output_type": "execute_result"
    }
   ],
   "source": [
    "heapq.heappop(arr1)"
   ]
  },
  {
   "cell_type": "code",
   "execution_count": 28,
   "id": "c2844086-dcca-418f-8d9e-6e8350e1c76a",
   "metadata": {
    "execution": {
     "iopub.execute_input": "2024-08-18T12:36:32.059893Z",
     "iopub.status.busy": "2024-08-18T12:36:32.059612Z",
     "iopub.status.idle": "2024-08-18T12:36:32.062788Z",
     "shell.execute_reply": "2024-08-18T12:36:32.062560Z",
     "shell.execute_reply.started": "2024-08-18T12:36:32.059878Z"
    }
   },
   "outputs": [
    {
     "data": {
      "text/plain": [
       "[2, 3, 4]"
      ]
     },
     "execution_count": 28,
     "metadata": {},
     "output_type": "execute_result"
    }
   ],
   "source": [
    "heapq.nsmallest(5, arr1)"
   ]
  },
  {
   "cell_type": "code",
   "execution_count": 30,
   "id": "544a278a-48d8-47bc-b92f-b0030259950f",
   "metadata": {
    "execution": {
     "iopub.execute_input": "2024-08-18T12:36:48.467913Z",
     "iopub.status.busy": "2024-08-18T12:36:48.467108Z",
     "iopub.status.idle": "2024-08-18T12:36:48.477589Z",
     "shell.execute_reply": "2024-08-18T12:36:48.476299Z",
     "shell.execute_reply.started": "2024-08-18T12:36:48.467852Z"
    }
   },
   "outputs": [
    {
     "data": {
      "text/plain": [
       "([2, 3, 4], list)"
      ]
     },
     "execution_count": 30,
     "metadata": {},
     "output_type": "execute_result"
    }
   ],
   "source": [
    "arr1, type(arr1)"
   ]
  },
  {
   "cell_type": "code",
   "execution_count": null,
   "id": "e9529fb7-d673-484e-b8ca-18762ad0b731",
   "metadata": {},
   "outputs": [],
   "source": []
  }
 ],
 "metadata": {
  "kernelspec": {
   "display_name": "Python 3 (ipykernel)",
   "language": "python",
   "name": "python3"
  },
  "language_info": {
   "codemirror_mode": {
    "name": "ipython",
    "version": 3
   },
   "file_extension": ".py",
   "mimetype": "text/x-python",
   "name": "python",
   "nbconvert_exporter": "python",
   "pygments_lexer": "ipython3",
   "version": "3.12.2"
  }
 },
 "nbformat": 4,
 "nbformat_minor": 5
}
